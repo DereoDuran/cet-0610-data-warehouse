{
 "cells": [
  {
   "cell_type": "code",
   "execution_count": 22,
   "metadata": {},
   "outputs": [],
   "source": [
    "from utils import MysqlConnector\n",
    "conn = MysqlConnector()"
   ]
  },
  {
   "cell_type": "code",
   "execution_count": 23,
   "metadata": {},
   "outputs": [],
   "source": [
    "conn.execute('CREATE DATABASE IF NOT EXISTS source;')\n",
    "conn.execute('CREATE DATABASE IF NOT EXISTS dw;')"
   ]
  },
  {
   "cell_type": "code",
   "execution_count": 24,
   "metadata": {},
   "outputs": [],
   "source": [
    "conn.execute('DROP TABLE IF EXISTS customer_dim;')\n",
    "conn.execute('DROP TABLE IF EXISTS product_dim;')\n",
    "conn.execute('DROP TABLE IF EXISTS date_dim;')\n",
    "conn.execute('DROP TABLE IF EXISTS order_dim;')\n",
    "conn.execute('DROP TABLE IF EXISTS sales_order_fact;')\n"
   ]
  },
  {
   "cell_type": "code",
   "execution_count": 25,
   "metadata": {},
   "outputs": [],
   "source": [
    "conn.execute('''CREATE TABLE customer_dim (\n",
    "    customer_sk INT NOT NULL AUTO_INCREMENT PRIMARY KEY,\n",
    "    customer_number INT,\n",
    "    customer_name CHAR(50),\n",
    "    customer_street_address CHAR(50),\n",
    "    customer_zip_code INT(5),\n",
    "    customer_city CHAR(30),\n",
    "    customer_state CHAR(2),\n",
    "    effective_date DATE,\n",
    "    expiry_date DATE\n",
    ");''')\n",
    "\n",
    "conn.execute('''CREATE TABLE product_dim (\n",
    "    product_sk INT NOT NULL AUTO_INCREMENT PRIMARY KEY,\n",
    "    product_code INT,\n",
    "    product_name CHAR(30),\n",
    "    product_category CHAR(30),\n",
    "    effective_date DATE,\n",
    "    expiry_date DATE\n",
    ");''')\n",
    "\n",
    "conn.execute('''CREATE TABLE order_dim (\n",
    "    order_sk INT NOT NULL AUTO_INCREMENT PRIMARY KEY,\n",
    "    order_number INT,\n",
    "    effective_date DATE,\n",
    "    expiry_date DATE\n",
    ");''')\n",
    "\n",
    "conn.execute('''CREATE TABLE date_dim (\n",
    "    date_sk INT NOT NULL AUTO_INCREMENT PRIMARY KEY,\n",
    "    date DATE,\n",
    "    month_name CHAR(9),\n",
    "    MONTH INT(1),\n",
    "    quarter INT(1),\n",
    "    year INT(4),\n",
    "    effective_date DATE,\n",
    "    expiry_date DATE\n",
    ");''')\n",
    "\n",
    "conn.execute('''CREATE TABLE sales_order_fact (\n",
    "    order_sk INT,\n",
    "    customer_sk INT,\n",
    "    product_sk INT,\n",
    "    order_date_sk INT,\n",
    "    order_amount DECIMAL(10, 2)\n",
    ");''')"
   ]
  },
  {
   "cell_type": "code",
   "execution_count": 26,
   "metadata": {},
   "outputs": [],
   "source": [
    "conn.execute('''\n",
    "INSERT INTO customer_dim \n",
    "( customer_sk \n",
    ", customer_number \n",
    ", customer_name \n",
    ", customer_street_address \n",
    ", customer_zip_code \n",
    ", customer_city \n",
    ", customer_state \n",
    ", effective_date \n",
    ", expiry_date )\n",
    "VALUES \n",
    "  (NULL, 1, 'Big Customers', '7500 Louise Dr.', '17050', 'Mechanicsburg', 'PA', CURRENT_DATE, '9999-12-31')\n",
    ", (NULL, 2, 'Small Stores', '2500 Woodland St.', '17055', 'Pittsburgh', 'PA', CURRENT_DATE, '9999-12-31')\n",
    ", (NULL, 3, 'Medium Retailers', '1111 Ritter Rd.', '17055', 'Pittsburgh', 'PA',  CURRENT_DATE, '9999-12-31')\n",
    ", (NULL, 4, 'Good Companies', '9500 Scott St.', '17050', 'Mechanicsburg', 'PA', CURRENT_DATE, '9999-12-31')\n",
    ", (NULL, 5, 'Wonderful Shops', '3333 Rossmoyne Rd.', '17050', 'Mechanicsburg', 'PA', CURRENT_DATE, '9999-12-31')\n",
    ", (NULL, 6, 'Loyal Clients', '7070 Ritter Rd.', '17055', 'Pittsburgh', 'PA', CURRENT_DATE, '9999-12-31')\n",
    ", (NULL, 7, 'Loney Clients', '7071 Ritter Rd.', '17055', 'Pittsburgh', 'PA', CURRENT_DATE, '9999-12-31')\n",
    ", (NULL, 8, 'Iron Mount', '70 Road Rd.', '11055', 'San Diego', 'CA', CURRENT_DATE, '9999-12-31')\n",
    ", (NULL, 9, 'Mex Free', '1770 66 Rd.', '27055', 'Texas', 'TX', CURRENT_DATE, '9999-12-31')\n",
    ", (NULL, 10,'Bracows', '120 Scott Av.', '17435', 'Pittsburgh', 'PA', CURRENT_DATE, '9999-12-31')\n",
    ", (NULL, 11,'Big Deals', '500 Vendors St.', '17050', 'Mechanicsburg', 'PA', CURRENT_DATE, '9999-12-31')\n",
    ", (NULL, 12,'Small Country', '100 Peter St.', '17055', 'Pittsburgh', 'PA', CURRENT_DATE, '9999-12-31')\n",
    ", (NULL, 13,'Medium Golden', '11 Donavan Rd.', '17055', 'Pittsburgh', 'PA',  CURRENT_DATE, '9999-12-31')\n",
    ", (NULL, 14,'Best Companies', '95 Tiger St.', '17050', 'Mechanicsburg', 'PA', CURRENT_DATE, '9999-12-31')\n",
    ", (NULL, 15,'Computer Shops', '33 Rose Mary Av.', '17050', 'Mechanicsburg', 'PA', CURRENT_DATE, '9999-12-31')\n",
    ", (NULL, 16,'Good Clients', '1701 Maroon St.', '17055', 'Pittsburgh', 'PA', CURRENT_DATE, '9999-12-31')\n",
    ", (NULL, 17,'Only Deals', '71 Ritter Rd.', '17055', 'Pittsburgh', 'PA', CURRENT_DATE, '9999-12-31')\n",
    ", (NULL, 18,'Apalache Mount', '7000 Road Rd.', '11055', 'San Diego', 'CA', CURRENT_DATE, '9999-12-31')\n",
    ", (NULL, 19,'Mex Company', '470 66 Rd.', '27055', 'Texas', 'TX', CURRENT_DATE, '9999-12-31')\n",
    ", (NULL, 20,'Brown Cows', '120 Deytona River Av.', '17435', 'Pittsburgh', 'PA', CURRENT_DATE, '9999-12-31');\n",
    "''')"
   ]
  },
  {
   "cell_type": "code",
   "execution_count": 27,
   "metadata": {},
   "outputs": [
    {
     "data": {
      "text/plain": [
       "[(1,\n",
       "  1,\n",
       "  'Big Customers',\n",
       "  '7500 Louise Dr.',\n",
       "  17050,\n",
       "  'Mechanicsburg',\n",
       "  'PA',\n",
       "  datetime.date(2023, 8, 19),\n",
       "  datetime.date(9999, 12, 31)),\n",
       " (2,\n",
       "  2,\n",
       "  'Small Stores',\n",
       "  '2500 Woodland St.',\n",
       "  17055,\n",
       "  'Pittsburgh',\n",
       "  'PA',\n",
       "  datetime.date(2023, 8, 19),\n",
       "  datetime.date(9999, 12, 31))]"
      ]
     },
     "execution_count": 27,
     "metadata": {},
     "output_type": "execute_result"
    }
   ],
   "source": [
    "conn.fetch('SELECT * FROM customer_dim;')[:2]"
   ]
  },
  {
   "cell_type": "code",
   "execution_count": 28,
   "metadata": {},
   "outputs": [
    {
     "data": {
      "text/plain": [
       "20"
      ]
     },
     "execution_count": 28,
     "metadata": {},
     "output_type": "execute_result"
    }
   ],
   "source": [
    "len(conn.fetch('SELECT * FROM customer_dim;'))"
   ]
  }
 ],
 "metadata": {
  "kernelspec": {
   "display_name": "Python 3",
   "language": "python",
   "name": "python3"
  },
  "language_info": {
   "codemirror_mode": {
    "name": "ipython",
    "version": 3
   },
   "file_extension": ".py",
   "mimetype": "text/x-python",
   "name": "python",
   "nbconvert_exporter": "python",
   "pygments_lexer": "ipython3",
   "version": "3.9.17"
  },
  "orig_nbformat": 4
 },
 "nbformat": 4,
 "nbformat_minor": 2
}

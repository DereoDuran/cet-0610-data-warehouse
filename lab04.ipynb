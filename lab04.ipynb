{
 "cells": [
  {
   "cell_type": "code",
   "execution_count": 8,
   "metadata": {},
   "outputs": [],
   "source": [
    "from utils import MysqlConnector\n",
    "conn = MysqlConnector()"
   ]
  },
  {
   "cell_type": "code",
   "execution_count": 9,
   "metadata": {},
   "outputs": [],
   "source": [
    "conn.execute('''USE source;''')\n",
    "conn.execute('DROP TABLE IF EXISTS sales_order')\n",
    "conn.execute('''\n",
    "CREATE TABLE sales_order\n",
    "( order_number INT\n",
    ", customer_number INT \n",
    ", product_code INT\n",
    ", order_date DATE\n",
    ", entry_date DATE\n",
    ", order_amount DECIMAL(10,2)) \n",
    ";\n",
    "''')\n",
    "conn.execute('''\n",
    "INSERT INTO sales_order VALUES\n",
    "  (201, 1, 1, '2013-02-06', '2013-02-06', 1000)\n",
    ", (202, 2, 1, '2013-02-06', '2013-02-06', 1000)\n",
    ", (203, 3, 1, '2013-02-06', '2013-02-06', 4000)\n",
    ", (204, 4, 1, '2013-02-06', '2013-02-06', 4000)\n",
    ";\n",
    "''')"
   ]
  },
  {
   "cell_type": "code",
   "execution_count": 10,
   "metadata": {},
   "outputs": [],
   "source": [
    "conn.execute('USE dw;')\n",
    "conn.execute('''\n",
    "INSERT INTO order_dim VALUES\n",
    "  (NULL, 200, CURRENT_DATE, '9999-12-31')\n",
    ", (NULL, 201, CURRENT_DATE, '9999-12-31')\n",
    ", (NULL, 202, CURRENT_DATE, '9999-12-31')\n",
    ", (NULL, 203, CURRENT_DATE, '9999-12-31')\n",
    ", (NULL, 204, CURRENT_DATE, '9999-12-31')\n",
    ", (NULL, 205, CURRENT_DATE, '9999-12-31')\n",
    ", (NULL, 206, CURRENT_DATE, '9999-12-31')\n",
    ", (NULL, 207, CURRENT_DATE, '9999-12-31')\n",
    ", (NULL, 208, CURRENT_DATE, '9999-12-31')\n",
    ", (NULL, 209, CURRENT_DATE, '9999-12-31')\n",
    ", (NULL, 210, CURRENT_DATE, '9999-12-31')\n",
    ", (NULL, 211, CURRENT_DATE, '9999-12-31')\n",
    ", (NULL, 212, CURRENT_DATE, '9999-12-31')\n",
    ", (NULL, 213, CURRENT_DATE, '9999-12-31')\n",
    ", (NULL, 214, CURRENT_DATE, '9999-12-31')\n",
    ", (NULL, 215, CURRENT_DATE, '9999-12-31')\n",
    ", (NULL, 216, CURRENT_DATE, '9999-12-31')\n",
    ", (NULL, 217, CURRENT_DATE, '9999-12-31')\n",
    ", (NULL, 218, CURRENT_DATE, '9999-12-31')\n",
    ", (NULL, 219, CURRENT_DATE, '9999-12-31')\n",
    ", (NULL, 220, CURRENT_DATE, '9999-12-31')\n",
    ", (NULL, 221, CURRENT_DATE, '9999-12-31')\n",
    ", (NULL, 222, CURRENT_DATE, '9999-12-31')\n",
    ", (NULL, 223, CURRENT_DATE, '9999-12-31')\n",
    ";             \n",
    "''')\n",
    "conn.execute('''\n",
    "INSERT INTO date_dim VALUES\n",
    "  (NULL, '2013-02-06', 'February', 2, 6, 2013, CURRENT_DATE, '9999-12-31')\n",
    ", (NULL, '2013-02-10', 'February', 2, 6, 2013, CURRENT_DATE, '9999-12-31')\n",
    "  ;          \n",
    "''')\n",
    "conn.execute('USE source;')\n",
    "conn.execute('''\n",
    "INSERT INTO sales_order VALUES\n",
    "  (210, 1, 1, '2013-02-06', '2013-02-06', 1000)\n",
    ", (211, 2, 2, '2013-02-06', '2013-02-06', 1000)\n",
    ", (212, 3, 2, '2013-02-06', '2013-02-06', 4000)\n",
    ", (213, 4, 4, '2013-02-06', '2013-02-06', 3500)\n",
    ", (214, 5, 5, '2013-02-06', '2013-02-06', 5000)\n",
    ", (215, 6, 5, '2013-02-06', '2013-02-06', 1700)\n",
    ", (216, 7, 6, '2013-02-06', '2013-02-06', 4600)\n",
    ", (217, 7, 7, '2013-02-06', '2013-02-06', 3600)\n",
    ", (218, 8, 8, '2013-02-06', '2013-02-06', 1700)\n",
    ", (219, 8, 9, '2013-02-06', '2013-02-06', 1200)\n",
    ", (220, 2, 10, '2013-02-06', '2013-02-06', 4400)\n",
    ", (221, 10, 10, '2013-02-06', '2013-02-06', 14000)\n",
    ", (222, 2, 2, '2013-02-06', '2013-02-06', 1000)\n",
    ", (223, 3, 2, '2013-02-06', '2013-02-06', 4000)\n",
    ", (224, 4, 4, '2013-02-06', '2013-02-06', 3510)\n",
    ", (225, 5, 5, '2013-02-06', '2013-02-06', 5230)\n",
    ", (226, 6, 5, '2013-02-06', '2013-02-06', 1450)\n",
    ", (227, 7, 6, '2013-02-06', '2013-02-06', 440)\n",
    ", (228, 7, 7, '2013-02-06', '2013-02-06', 3430)\n",
    ", (229, 8, 8, '2013-02-06', '2013-02-06', 1670)\n",
    ", (230, 8, 9, '2013-02-06', '2013-02-06', 12300)\n",
    ", (231, 2, 10, '2013-02-06', '2013-02-06', 14900)\n",
    ", (232, 10, 10, '2013-02-06', '2013-02-06', 15600)\n",
    ", (233, 10, 10, '2013-02-06', '2013-02-06', 12300)\n",
    ";             \n",
    "''')"
   ]
  },
  {
   "cell_type": "code",
   "execution_count": 11,
   "metadata": {},
   "outputs": [],
   "source": [
    "conn.execute('USE source;')\n",
    "conn.execute('''\n",
    "INSERT INTO dw.sales_order_fact\n",
    "SELECT\n",
    "  a.order_number\n",
    ", c.customer_sk\n",
    ", d.product_sk\n",
    ", e.date_sk\n",
    ", a.order_amount\n",
    "FROM\n",
    "  sales_order a\n",
    ", dw.order_dim b\n",
    ", dw.customer_dim c\n",
    ", dw.product_dim d\n",
    ", dw.date_dim e\n",
    "WHERE\n",
    " a.order_number = b.order_number\n",
    "AND a.customer_number = c.customer_number\n",
    "AND a.product_code = d.product_code\n",
    "AND a.order_date = e.date\n",
    ";          \n",
    "''')"
   ]
  },
  {
   "cell_type": "code",
   "execution_count": 15,
   "metadata": {},
   "outputs": [],
   "source": [
    "conn.execute(\"USE dw;\")\n",
    "result = conn.fetch('''\n",
    "SELECT\n",
    "                    d.year,\n",
    "    c.customer_name,\n",
    "    SUM(o.order_amount) AS total\n",
    "FROM\n",
    "    sales_order_fact o\n",
    "INNER JOIN date_dim d ON\n",
    "    o.order_date_sk = d.date_sk\n",
    "INNER JOIN customer_dim c ON\n",
    "    o.customer_sk = c.customer_sk\n",
    "WHERE d.month_name = 'February' and d.year = (SELECT MAX(year) FROM date_dim)\n",
    "GROUP BY\n",
    "    d.year,\n",
    "    c.customer_sk\n",
    "ORDER BY\n",
    "    total desc;\n",
    "''')"
   ]
  },
  {
   "cell_type": "markdown",
   "metadata": {},
   "source": [
    "Total de compras por cliente no último mês de fevereiro"
   ]
  },
  {
   "cell_type": "code",
   "execution_count": 16,
   "metadata": {},
   "outputs": [
    {
     "data": {
      "text/plain": [
       "[(2013, 'Bracows', Decimal('14000.00')),\n",
       " (2013, 'Medium Retailers', Decimal('12000.00')),\n",
       " (2013, 'Loney Clients', Decimal('8200.00')),\n",
       " (2013, 'Good Companies', Decimal('7500.00')),\n",
       " (2013, 'Small Stores', Decimal('7400.00')),\n",
       " (2013, 'Wonderful Shops', Decimal('5000.00')),\n",
       " (2013, 'Iron Mount', Decimal('2900.00')),\n",
       " (2013, 'Big Customers', Decimal('2000.00')),\n",
       " (2013, 'Loyal Clients', Decimal('1700.00'))]"
      ]
     },
     "execution_count": 16,
     "metadata": {},
     "output_type": "execute_result"
    }
   ],
   "source": [
    "result"
   ]
  },
  {
   "cell_type": "code",
   "execution_count": null,
   "metadata": {},
   "outputs": [],
   "source": []
  }
 ],
 "metadata": {
  "kernelspec": {
   "display_name": "Python 3",
   "language": "python",
   "name": "python3"
  },
  "language_info": {
   "codemirror_mode": {
    "name": "ipython",
    "version": 3
   },
   "file_extension": ".py",
   "mimetype": "text/x-python",
   "name": "python",
   "nbconvert_exporter": "python",
   "pygments_lexer": "ipython3",
   "version": "3.9.17"
  },
  "orig_nbformat": 4
 },
 "nbformat": 4,
 "nbformat_minor": 2
}
